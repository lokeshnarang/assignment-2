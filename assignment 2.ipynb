{
 "cells": [
  {
   "cell_type": "code",
   "execution_count": 2,
   "metadata": {},
   "outputs": [
    {
     "name": "stdout",
     "output_type": "stream",
     "text": [
      "Enter a string: lokesh\n",
      "Length of the input string is: 6\n"
     ]
    }
   ],
   "source": [
    "# 1  Find the length of a string using loops (not len()). .   \n",
    "str = input(\"Enter a string: \")\n",
    "counter = 0\n",
    "for n in str:\n",
    "      counter = counter+1\n",
    "print(\"Length of the input string is:\", counter)"
   ]
  },
  {
   "cell_type": "code",
   "execution_count": 9,
   "metadata": {},
   "outputs": [
    {
     "name": "stdout",
     "output_type": "stream",
     "text": [
      "Please enter the first stringhello\n",
      "Please enter the second stringworld\n",
      "Concatenated String = helloworld\n"
     ]
    }
   ],
   "source": [
    "# 2   Write a program that accepts two strings and outputs the concatenation of them.        Example: ‘hello’ , ‘world’ ==> ‘helloworld’ .  \n",
    "s1 = input('Please enter the first string')\n",
    "s2 = input('Please enter the second string')\n",
    "\n",
    "print('Concatenated String =', s1 + s2)"
   ]
  },
  {
   "cell_type": "code",
   "execution_count": 8,
   "metadata": {},
   "outputs": [
    {
     "name": "stdout",
     "output_type": "stream",
     "text": [
      "Input a stringlokesh 123\n",
      "Letters 6\n",
      "Digits 3\n"
     ]
    }
   ],
   "source": [
    "# 3  Write a program that accepts a sentence (string) and calculate the number of letters and digits. Example: ‘this is a test sentence number 389’ ==> letters = 25 and digits = 3.\n",
    "s = input(\"Input a string\")\n",
    "d=l=0\n",
    "for c in s:\n",
    "    if c.isdigit():\n",
    "        d=d+1\n",
    "    elif c.isalpha():\n",
    "        l=l+1\n",
    "    else:\n",
    "        pass\n",
    "print(\"Letters\", l)\n",
    "print(\"Digits\", d)\n"
   ]
  },
  {
   "cell_type": "code",
   "execution_count": 7,
   "metadata": {},
   "outputs": [
    {
     "name": "stdout",
     "output_type": "stream",
     "text": [
      "HELLO\n"
     ]
    }
   ],
   "source": [
    "# 4   Write a program that accepts a string and outputs the string with all capital letters.        Example: ‘hello’ ==> ‘HELLO’ \n",
    "string = \"hello\"\n",
    "print(string.upper())"
   ]
  },
  {
   "cell_type": "code",
   "execution_count": 3,
   "metadata": {},
   "outputs": [
    {
     "name": "stdout",
     "output_type": "stream",
     "text": [
      "No. of Upper case  2\n",
      "No. of Lower case  10\n"
     ]
    }
   ],
   "source": [
    "  #5 Write a program that accepts a sentence and calculate the number of upper case letters and lower case letters. \n",
    "def sen(s):\n",
    "    d={\"UPPER_CASE\":0, \"LOWER_CASE\":0}\n",
    "    for c in s:\n",
    "        if c.isupper():\n",
    "           d[\"UPPER_CASE\"]+=1\n",
    "        elif c.islower():\n",
    "           d[\"LOWER_CASE\"]+=1\n",
    "        else:\n",
    "           pass\n",
    "    print (\"No. of Upper case \", d[\"UPPER_CASE\"])\n",
    "    print (\"No. of Lower case \", d[\"LOWER_CASE\"])\n",
    "\n",
    "sen('Lokesh Narang')"
   ]
  },
  {
   "cell_type": "code",
   "execution_count": 10,
   "metadata": {},
   "outputs": [
    {
     "name": "stdout",
     "output_type": "stream",
     "text": [
      "LOKESH\n"
     ]
    }
   ],
   "source": [
    "# 6  Swap cases in a string using loops. .  \n",
    "string = \"lokesh\" \n",
    "print(string.swapcase())   "
   ]
  },
  {
   "cell_type": "code",
   "execution_count": 15,
   "metadata": {},
   "outputs": [
    {
     "name": "stdout",
     "output_type": "stream",
     "text": [
      "3\n"
     ]
    }
   ],
   "source": [
    "# 7   Write  a program that counts the occurrence of a character in a string. Example: ‘This is a test string.’ count of i = 3\n",
    "s = \"This is a test string\"\n",
    "print(s.count(\"i\"))\n"
   ]
  },
  {
   "cell_type": "code",
   "execution_count": 38,
   "metadata": {},
   "outputs": [
    {
     "name": "stdout",
     "output_type": "stream",
     "text": [
      "Enter string:madam\n",
      "The string is a palindrome\n"
     ]
    }
   ],
   "source": [
    "# 8   Write a program to find if a given string is a pallindrome or not. .   \n",
    "str=input(\"Enter string:\")\n",
    "if(str==str[::-1]):\n",
    "    print(\"The string is a palindrome\")\n",
    "else:\n",
    "    print(\"The string isn't a palindrome\")"
   ]
  },
  {
   "cell_type": "code",
   "execution_count": null,
   "metadata": {},
   "outputs": [],
   "source": []
  },
  {
   "cell_type": "code",
   "execution_count": null,
   "metadata": {},
   "outputs": [],
   "source": []
  },
  {
   "cell_type": "code",
   "execution_count": 19,
   "metadata": {},
   "outputs": [
    {
     "name": "stdout",
     "output_type": "stream",
     "text": [
      "hsekol\n"
     ]
    }
   ],
   "source": [
    "# 12  Reverse a string. .   \n",
    "str = \"lokesh\"[::-1]\n",
    "print(str) "
   ]
  },
  {
   "cell_type": "code",
   "execution_count": 35,
   "metadata": {},
   "outputs": [
    {
     "name": "stdout",
     "output_type": "stream",
     "text": [
      "Enter string:lokesh\n",
      "Enter sub stringlok\n",
      "Substring in string is lok\n"
     ]
    }
   ],
   "source": [
    "# 14 Write a program which accepts two strings s1 and s2 and checks if s2 is a substring of s1. \n",
    "s1=input(\"Enter string:\")\n",
    "s2=input(\"Enter sub string\")\n",
    "if(s1.find(s2)==-1):\n",
    "      print(\"Substring not found in string!\")\n",
    "else:\n",
    "      print(\"Substring in string is\",s2)"
   ]
  },
  {
   "cell_type": "code",
   "execution_count": null,
   "metadata": {},
   "outputs": [],
   "source": []
  },
  {
   "cell_type": "code",
   "execution_count": null,
   "metadata": {},
   "outputs": [],
   "source": []
  }
 ],
 "metadata": {
  "kernelspec": {
   "display_name": "Python 3",
   "language": "python",
   "name": "python3"
  },
  "language_info": {
   "codemirror_mode": {
    "name": "ipython",
    "version": 3
   },
   "file_extension": ".py",
   "mimetype": "text/x-python",
   "name": "python",
   "nbconvert_exporter": "python",
   "pygments_lexer": "ipython3",
   "version": "3.7.3"
  }
 },
 "nbformat": 4,
 "nbformat_minor": 2
}
